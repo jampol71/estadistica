{
 "cells": [
  {
   "cell_type": "markdown",
   "metadata": {},
   "source": [
    "# Introducción\n",
    "\n",
    "En esta práctica vamos a repasar diferentes tests estadísticos. Para ello nos ayudamos de los datos publicados por BCSC:\n",
    "*NCI-funded Breast Cancer Surveillance Consortium (P01 CA154292 and HHSN261201100031C). Downloaded mm/dd/yyyy from the Breast Cancer Surveillance Consortium Web site - http://www.bcsc-research.org/data/index.html.*\n",
    "\n",
    "Concretamente a través de este enlace:\n",
    "http://www.bcsc-research.org/data/rf/app2/DownloadRequest.aspx\n",
    "\n",
    "\n",
    "El fichero *BCSC_risk_factors_summarized.csv* descargado lo teneis en la carpeta *data*.\n",
    "\n",
    "Ese fichero es un CSV, la descripción de cada columna se puede ver en la siguiente tabla:"
   ]
  },
  {
   "cell_type": "markdown",
   "metadata": {},
   "source": [
    "\n",
    "| Nombre de variable | Descripción | Código | \n",
    "|-|-|-|\n",
    "| year | Año de la observación | Numérico, 2000-2009 |\n",
    "| year_group_5_years| Edad (años) en grupos de 5 años |  1 = Edad 18-29;  2 = Edad 30-34; 3 = Edad 35-39; 4 = Edad 40-44; 5 = Edad 45-49; 6 = Edad 50-54; 7 = Edad 55-59; 8 = Edad 60-64; 9 = Edad 65-69; 10 = Edad 70-74; 11 = Edad 75-79; 12 = Edad 80-84; 13 = Edad ≥85 |\n",
    "| race_eth | Grupo étnico | 1 = Non-Hispanic white; 2 = Non-Hispanic black; 3 = Asian/Pacific Islander; 4 = Native American; 5 = Hispanic; 6 = Other/mixed; 9 = Desconocido |\n",
    "| first_degree_hx | Historial de cancer de un familiar de primer grado | 0 = No; 1 = Sí; 9 = Desconocido |\n",
    "| Edad_menarche | Edad (años) at menarche |0 = Edad ≥14; 1 = Edad 12-13; 2 = Edad <12; 9 = Desconocido\n",
    "| Edad_first_birth | Edad (años) at first birth | 0 = Edad < 20; 1 = Edad 20-24; 2 = Edad 25-29; 3 = Edad ≥30; 4 = Nulliparous; 9 = Desconocido |\n",
    "| BIRADS_breast_density | BI-RADS densidad del cancer de pecho| 1 = Almost entirely fat; 2 =Scattered fibroglandular densities; 3 = Heterogeneously dense; 4 = Extremely dense; 9 = Desconocido |\n",
    "| current_hrt | Uso de terapia de hormonas de reemplazo | 0 = No; 1 = Sí; 9 = Desconocido |\n",
    "| menopaus | Menopausal status | 1 = Pre- or peri-menopausal; 2 = Post-menopausal; 3 = Surgical menopause; 9 = Desconocido |\n",
    "| bmi_group |  Body mass index | 1 = 10-24.99; 2 = 25-29.99; 3 = 30-34.99; 4 = 35 or more; 9 = Desconocido |\n",
    "| biophx | Biopsia previa o aspiración | 0 = No; 1 = Sí; 9 = Desconocido |\n",
    "| breast_cancer_history | Cancer diagnosticado con anterioridad | 0 = No; 1 = Sí; 9 = Desconocido |\n",
    "| count | Número de ocurrencias de estas covariables | Numérico|\n",
    "\n",
    "\n"
   ]
  },
  {
   "cell_type": "markdown",
   "metadata": {},
   "source": [
    "Leemos los datos del csv y los adaptamos. Pasos a seguir:\n",
    "1. Replicamos las filas indicadas por la columna *count*\n",
    "2. Los datos son muy grandes, para agilizar la práctica nos quedamos con 5000 muestras elegidas con muestreo aleatorio simple. El resto se puede descartar.\n",
    "3. Se adapta el resto"
   ]
  },
  {
   "cell_type": "code",
   "execution_count": 1,
   "metadata": {},
   "outputs": [
    {
     "data": {
      "text/html": [
       "'1716600'"
      ],
      "text/latex": [
       "'1716600'"
      ],
      "text/markdown": [
       "'1716600'"
      ],
      "text/plain": [
       "[1] \"1716600\""
      ]
     },
     "metadata": {},
     "output_type": "display_data"
    }
   ],
   "source": [
    "system(\"awk '/MemFree/ {print $2}' /proc/meminfo\", intern=TRUE)"
   ]
  },
  {
   "cell_type": "code",
   "execution_count": 2,
   "metadata": {},
   "outputs": [],
   "source": [
    "# REPLICAR FILAS INDICADAS EN LA COLUMNA COUNT\n",
    "df<-read.csv(\"datos/BCSC_risk_factors_summarized.csv\",sep=\",\",header = T)"
   ]
  },
  {
   "cell_type": "code",
   "execution_count": 3,
   "metadata": {},
   "outputs": [],
   "source": [
    "#ponemos los duplicados donde la columna count nos indique\n",
    "df <- df[rep(row.names(df), df$count), 1:(ncol(df)-1)]"
   ]
  },
  {
   "cell_type": "code",
   "execution_count": 4,
   "metadata": {},
   "outputs": [],
   "source": [
    "#seleccionamos muestra\n",
    "set.seed(12345)\n",
    "df2 <- df[sample(nrow(df),5000),]"
   ]
  },
  {
   "cell_type": "code",
   "execution_count": 25,
   "metadata": {},
   "outputs": [],
   "source": [
    "#ponemos los duplicados donde la columna count nos indique\n",
    "n.repetidos <- df2$count\n",
    "df2_ampliado <- df2[rep(seq_len(nrow(df2)), n.repetidos),]"
   ]
  },
  {
   "cell_type": "code",
   "execution_count": 26,
   "metadata": {},
   "outputs": [],
   "source": [
    "df2_ampliado[df2_ampliado == 9] <- NA"
   ]
  },
  {
   "cell_type": "code",
   "execution_count": 27,
   "metadata": {},
   "outputs": [],
   "source": [
    "#convertimos a factores las columnas que nos interesen\n",
    "tipos <- c(\"Almost entirely fat\",\"Scattered fibroglandular densities\",\"Heterogeneously dense\",\"Extremely dense\",\"Desconocido\")\n",
    "df2$BIRADS_breast_density <- factor(tipos)"
   ]
  },
  {
   "cell_type": "code",
   "execution_count": 28,
   "metadata": {},
   "outputs": [
    {
     "data": {
      "text/html": [
       "<table>\n",
       "<thead><tr><th></th><th scope=col>year</th><th scope=col>age_group_5_years</th><th scope=col>race_eth</th><th scope=col>first_degree_hx</th><th scope=col>age_menarche</th><th scope=col>age_first_birth</th><th scope=col>BIRADS_breast_density</th><th scope=col>current_hrt</th><th scope=col>menopaus</th><th scope=col>bmi_group</th><th scope=col>biophx</th><th scope=col>breast_cancer_history</th><th scope=col>count</th></tr></thead>\n",
       "<tbody>\n",
       "\t<tr><th scope=row>825121</th><td>2007                              </td><td> 2                                </td><td>1                                 </td><td>0                                 </td><td>1                                 </td><td>4                                 </td><td>Almost entirely fat               </td><td>0                                 </td><td>1                                 </td><td>2                                 </td><td>0                                 </td><td>0                                 </td><td> 5                                </td></tr>\n",
       "\t<tr><th scope=row>1002378</th><td>2008                              </td><td> 8                                </td><td>6                                 </td><td>0                                 </td><td>0                                 </td><td>1                                 </td><td>Scattered fibroglandular densities</td><td>0                                 </td><td>2                                 </td><td>4                                 </td><td>0                                 </td><td>0                                 </td><td> 2                                </td></tr>\n",
       "\t<tr><th scope=row>870992</th><td>2007                              </td><td> 6                                </td><td>5                                 </td><td>0                                 </td><td>9                                 </td><td>3                                 </td><td>Heterogeneously dense             </td><td>1                                 </td><td>2                                 </td><td>3                                 </td><td>1                                 </td><td>0                                 </td><td> 1                                </td></tr>\n",
       "\t<tr><th scope=row>1014224</th><td>2008                              </td><td>10                                </td><td>1                                 </td><td>0                                 </td><td>0                                 </td><td>9                                 </td><td>Extremely dense                   </td><td>9                                 </td><td>2                                 </td><td>2                                 </td><td>0                                 </td><td>0                                 </td><td> 1                                </td></tr>\n",
       "\t<tr><th scope=row>522470</th><td>2004                              </td><td> 6                                </td><td>1                                 </td><td>0                                 </td><td>9                                 </td><td>4                                 </td><td>Desconocido                       </td><td>0                                 </td><td>2                                 </td><td>1                                 </td><td>0                                 </td><td>0                                 </td><td> 8                                </td></tr>\n",
       "\t<tr><th scope=row>190423</th><td>2001                              </td><td> 8                                </td><td>1                                 </td><td>1                                 </td><td>1                                 </td><td>1                                 </td><td>Almost entirely fat               </td><td>0                                 </td><td>2                                 </td><td>9                                 </td><td>0                                 </td><td>0                                 </td><td>19                                </td></tr>\n",
       "</tbody>\n",
       "</table>\n"
      ],
      "text/latex": [
       "\\begin{tabular}{r|lllllllllllll}\n",
       "  & year & age\\_group\\_5\\_years & race\\_eth & first\\_degree\\_hx & age\\_menarche & age\\_first\\_birth & BIRADS\\_breast\\_density & current\\_hrt & menopaus & bmi\\_group & biophx & breast\\_cancer\\_history & count\\\\\n",
       "\\hline\n",
       "\t825121 & 2007                               &  2                                 & 1                                  & 0                                  & 1                                  & 4                                  & Almost entirely fat                & 0                                  & 1                                  & 2                                  & 0                                  & 0                                  &  5                                \\\\\n",
       "\t1002378 & 2008                               &  8                                 & 6                                  & 0                                  & 0                                  & 1                                  & Scattered fibroglandular densities & 0                                  & 2                                  & 4                                  & 0                                  & 0                                  &  2                                \\\\\n",
       "\t870992 & 2007                               &  6                                 & 5                                  & 0                                  & 9                                  & 3                                  & Heterogeneously dense              & 1                                  & 2                                  & 3                                  & 1                                  & 0                                  &  1                                \\\\\n",
       "\t1014224 & 2008                               & 10                                 & 1                                  & 0                                  & 0                                  & 9                                  & Extremely dense                    & 9                                  & 2                                  & 2                                  & 0                                  & 0                                  &  1                                \\\\\n",
       "\t522470 & 2004                               &  6                                 & 1                                  & 0                                  & 9                                  & 4                                  & Desconocido                        & 0                                  & 2                                  & 1                                  & 0                                  & 0                                  &  8                                \\\\\n",
       "\t190423 & 2001                               &  8                                 & 1                                  & 1                                  & 1                                  & 1                                  & Almost entirely fat                & 0                                  & 2                                  & 9                                  & 0                                  & 0                                  & 19                                \\\\\n",
       "\\end{tabular}\n"
      ],
      "text/markdown": [
       "\n",
       "| <!--/--> | year | age_group_5_years | race_eth | first_degree_hx | age_menarche | age_first_birth | BIRADS_breast_density | current_hrt | menopaus | bmi_group | biophx | breast_cancer_history | count | \n",
       "|---|---|---|---|---|---|\n",
       "| 825121 | 2007                               |  2                                 | 1                                  | 0                                  | 1                                  | 4                                  | Almost entirely fat                | 0                                  | 1                                  | 2                                  | 0                                  | 0                                  |  5                                 | \n",
       "| 1002378 | 2008                               |  8                                 | 6                                  | 0                                  | 0                                  | 1                                  | Scattered fibroglandular densities | 0                                  | 2                                  | 4                                  | 0                                  | 0                                  |  2                                 | \n",
       "| 870992 | 2007                               |  6                                 | 5                                  | 0                                  | 9                                  | 3                                  | Heterogeneously dense              | 1                                  | 2                                  | 3                                  | 1                                  | 0                                  |  1                                 | \n",
       "| 1014224 | 2008                               | 10                                 | 1                                  | 0                                  | 0                                  | 9                                  | Extremely dense                    | 9                                  | 2                                  | 2                                  | 0                                  | 0                                  |  1                                 | \n",
       "| 522470 | 2004                               |  6                                 | 1                                  | 0                                  | 9                                  | 4                                  | Desconocido                        | 0                                  | 2                                  | 1                                  | 0                                  | 0                                  |  8                                 | \n",
       "| 190423 | 2001                               |  8                                 | 1                                  | 1                                  | 1                                  | 1                                  | Almost entirely fat                | 0                                  | 2                                  | 9                                  | 0                                  | 0                                  | 19                                 | \n",
       "\n",
       "\n"
      ],
      "text/plain": [
       "        year age_group_5_years race_eth first_degree_hx age_menarche\n",
       "825121  2007  2                1        0               1           \n",
       "1002378 2008  8                6        0               0           \n",
       "870992  2007  6                5        0               9           \n",
       "1014224 2008 10                1        0               0           \n",
       "522470  2004  6                1        0               9           \n",
       "190423  2001  8                1        1               1           \n",
       "        age_first_birth BIRADS_breast_density              current_hrt menopaus\n",
       "825121  4               Almost entirely fat                0           1       \n",
       "1002378 1               Scattered fibroglandular densities 0           2       \n",
       "870992  3               Heterogeneously dense              1           2       \n",
       "1014224 9               Extremely dense                    9           2       \n",
       "522470  4               Desconocido                        0           2       \n",
       "190423  1               Almost entirely fat                0           2       \n",
       "        bmi_group biophx breast_cancer_history count\n",
       "825121  2         0      0                      5   \n",
       "1002378 4         0      0                      2   \n",
       "870992  3         1      0                      1   \n",
       "1014224 2         0      0                      1   \n",
       "522470  1         0      0                      8   \n",
       "190423  9         0      0                     19   "
      ]
     },
     "metadata": {},
     "output_type": "display_data"
    }
   ],
   "source": [
    "head(df2)"
   ]
  },
  {
   "cell_type": "code",
   "execution_count": 20,
   "metadata": {},
   "outputs": [
    {
     "data": {
      "text/html": [
       "<ol class=list-inline>\n",
       "\t<li>'Non-Hispanic white'</li>\n",
       "\t<li>'Non-Hispanic black'</li>\n",
       "\t<li>'Asian/Pacific Islander'</li>\n",
       "\t<li>'Native American'</li>\n",
       "\t<li>'Hispanic'</li>\n",
       "\t<li>'Other/mixed'</li>\n",
       "\t<li>'Desconocido'</li>\n",
       "</ol>\n"
      ],
      "text/latex": [
       "\\begin{enumerate*}\n",
       "\\item 'Non-Hispanic white'\n",
       "\\item 'Non-Hispanic black'\n",
       "\\item 'Asian/Pacific Islander'\n",
       "\\item 'Native American'\n",
       "\\item 'Hispanic'\n",
       "\\item 'Other/mixed'\n",
       "\\item 'Desconocido'\n",
       "\\end{enumerate*}\n"
      ],
      "text/markdown": [
       "1. 'Non-Hispanic white'\n",
       "2. 'Non-Hispanic black'\n",
       "3. 'Asian/Pacific Islander'\n",
       "4. 'Native American'\n",
       "5. 'Hispanic'\n",
       "6. 'Other/mixed'\n",
       "7. 'Desconocido'\n",
       "\n",
       "\n"
      ],
      "text/plain": [
       "[1] \"Non-Hispanic white\"     \"Non-Hispanic black\"     \"Asian/Pacific Islander\"\n",
       "[4] \"Native American\"        \"Hispanic\"               \"Other/mixed\"           \n",
       "[7] \"Desconocido\"           "
      ]
     },
     "metadata": {},
     "output_type": "display_data"
    },
    {
     "ename": "ERROR",
     "evalue": "Error in `$<-.data.frame`(`*tmp*`, \"race_eth\", value = structure(c(6L, : replacement has 7 rows, data has 5000\n",
     "output_type": "error",
     "traceback": [
      "Error in `$<-.data.frame`(`*tmp*`, \"race_eth\", value = structure(c(6L, : replacement has 7 rows, data has 5000\nTraceback:\n",
      "1. `$<-`(`*tmp*`, \"race_eth\", value = structure(c(6L, 5L, 1L, 4L, \n . 3L, 7L, 2L), .Label = c(\"Asian/Pacific Islander\", \"Desconocido\", \n . \"Hispanic\", \"Native American\", \"Non-Hispanic black\", \"Non-Hispanic white\", \n . \"Other/mixed\"), class = \"factor\"))",
      "2. `$<-.data.frame`(`*tmp*`, \"race_eth\", value = structure(c(6L, \n . 5L, 1L, 4L, 3L, 7L, 2L), .Label = c(\"Asian/Pacific Islander\", \n . \"Desconocido\", \"Hispanic\", \"Native American\", \"Non-Hispanic black\", \n . \"Non-Hispanic white\", \"Other/mixed\"), class = \"factor\"))",
      "3. stop(sprintf(ngettext(N, \"replacement has %d row, data has %d\", \n .     \"replacement has %d rows, data has %d\"), N, nrows), domain = NA)"
     ]
    }
   ],
   "source": [
    "\n",
    "#NO PUEDO TRANSFORMAR A FACTOR\n",
    "grupo_etnico <- c(\"Non-Hispanic white\",\"Non-Hispanic black\", \"Asian/Pacific Islander\" , \"Native American\" , \"Hispanic\", \"Other/mixed\",\"Desconocido\")\n",
    "grupo_etnico\n",
    "df2$race_eth <- factor(grupo_etnico)"
   ]
  },
  {
   "cell_type": "code",
   "execution_count": 16,
   "metadata": {},
   "outputs": [
    {
     "name": "stdout",
     "output_type": "stream",
     "text": [
      "'data.frame':\t5000 obs. of  13 variables:\n",
      " $ year                 : int  2007 2008 2007 2008 2004 2001 2003 2004 2007 2009 ...\n",
      " $ age_group_5_years    : int  2 8 6 10 6 8 4 10 4 11 ...\n",
      " $ race_eth             : int  1 6 5 1 1 1 3 5 1 1 ...\n",
      " $ first_degree_hx      : int  0 0 0 0 0 1 0 1 0 1 ...\n",
      " $ age_menarche         : int  1 0 9 0 9 1 9 9 9 0 ...\n",
      " $ age_first_birth      : int  4 1 3 9 4 1 3 1 3 4 ...\n",
      " $ BIRADS_breast_density: Factor w/ 5 levels \"Almost entirely fat\",..: 1 5 4 3 2 1 5 4 3 2 ...\n",
      " $ current_hrt          : int  0 0 1 9 0 0 0 0 0 0 ...\n",
      " $ menopaus             : int  1 2 2 2 2 2 1 2 1 2 ...\n",
      " $ bmi_group            : int  2 4 3 2 1 9 3 4 1 2 ...\n",
      " $ biophx               : int  0 0 1 0 0 0 0 0 1 1 ...\n",
      " $ breast_cancer_history: int  0 0 0 0 0 0 0 0 1 1 ...\n",
      " $ count                : int  5 2 1 1 8 19 3 1 6 1 ...\n"
     ]
    }
   ],
   "source": [
    "str(df2)"
   ]
  },
  {
   "cell_type": "code",
   "execution_count": 12,
   "metadata": {},
   "outputs": [
    {
     "ename": "ERROR",
     "evalue": "Error in `$<-.data.frame`(`*tmp*`, \"race_eth\", value = structure(c(6L, : replacement has 7 rows, data has 5000\n",
     "output_type": "error",
     "traceback": [
      "Error in `$<-.data.frame`(`*tmp*`, \"race_eth\", value = structure(c(6L, : replacement has 7 rows, data has 5000\nTraceback:\n",
      "1. `$<-`(`*tmp*`, \"race_eth\", value = structure(c(6L, 5L, 1L, 4L, \n . 3L, 7L, 2L), .Label = c(\"Asian/Pacific Islander\", \"Desconocido\", \n . \"Hispanic\", \"Native American\", \"Non-Hispanic black\", \"Non-Hispanic white\", \n . \"Other/mixed\"), class = \"factor\"))",
      "2. `$<-.data.frame`(`*tmp*`, \"race_eth\", value = structure(c(6L, \n . 5L, 1L, 4L, 3L, 7L, 2L), .Label = c(\"Asian/Pacific Islander\", \n . \"Desconocido\", \"Hispanic\", \"Native American\", \"Non-Hispanic black\", \n . \"Non-Hispanic white\", \"Other/mixed\"), class = \"factor\"))",
      "3. stop(sprintf(ngettext(N, \"replacement has %d row, data has %d\", \n .     \"replacement has %d rows, data has %d\"), N, nrows), domain = NA)"
     ]
    }
   ],
   "source": [
    "antecedente_familiar <- c(\"NO\",\"SI\")\n",
    "df2$first_degree_hx\n",
    "\n",
    "\n",
    "#ponemos los duplicados donde la columna count nos indique\n",
    "n.repetidos <- df2$count\n",
    "df2_ampliado <- df2[rep(seq_len(nrow(df2)), n.repetidos),]"
   ]
  },
  {
   "cell_type": "code",
   "execution_count": 6,
   "metadata": {},
   "outputs": [
    {
     "name": "stdout",
     "output_type": "stream",
     "text": [
      " int 5000\n",
      " int [1:5000] 5 2 1 1 8 19 3 1 6 1 ...\n"
     ]
    }
   ],
   "source": [
    "str(nrow(df2))\n",
    "str(n.repetidos)"
   ]
  },
  {
   "cell_type": "code",
   "execution_count": 7,
   "metadata": {},
   "outputs": [
    {
     "name": "stdout",
     "output_type": "stream",
     "text": [
      "'data.frame':\t27294 obs. of  13 variables:\n",
      " $ year                 : int  2007 2007 2007 2007 2007 2008 2008 2007 2008 2004 ...\n",
      " $ age_group_5_years    : int  2 2 2 2 2 8 8 6 10 6 ...\n",
      " $ race_eth             : int  1 1 1 1 1 6 6 5 1 1 ...\n",
      " $ first_degree_hx      : int  0 0 0 0 0 0 0 0 0 0 ...\n",
      " $ age_menarche         : int  1 1 1 1 1 0 0 9 0 9 ...\n",
      " $ age_first_birth      : int  4 4 4 4 4 1 1 3 9 4 ...\n",
      " $ BIRADS_breast_density: Factor w/ 5 levels \"Almost entirely fat\",..: 1 1 1 1 1 5 5 4 3 2 ...\n",
      " $ current_hrt          : int  0 0 0 0 0 0 0 1 9 0 ...\n",
      " $ menopaus             : int  1 1 1 1 1 2 2 2 2 2 ...\n",
      " $ bmi_group            : int  2 2 2 2 2 4 4 3 2 1 ...\n",
      " $ biophx               : int  0 0 0 0 0 0 0 1 0 0 ...\n",
      " $ breast_cancer_history: int  0 0 0 0 0 0 0 0 0 0 ...\n",
      " $ count                : int  5 5 5 5 5 2 2 1 1 8 ...\n"
     ]
    }
   ],
   "source": [
    "str(df2_ampliado)"
   ]
  },
  {
   "cell_type": "markdown",
   "metadata": {},
   "source": [
    "El número de filas tras replicar las filas indicadas por la columna *count* es de 6318638. Como este número es muy alto para la máquina virtual que tenemos vamos a realizar una muestreo aleatorio simple y nos quedaremos con 5000 filas. El resto se descartan.\n",
    "\n",
    "*Nota:*Para el muestreo usad la semilla 12345, de esta forma todos tendresmos exactamente los mismos resultados."
   ]
  },
  {
   "cell_type": "code",
   "execution_count": 2,
   "metadata": {
    "collapsed": true
   },
   "outputs": [],
   "source": [
    "#Definimos una semilla común para todos:\n",
    "set.seed(12345)\n",
    "#Utiliza muestreo aleatorio simple para quedarnos con 5000 muestras:\n"
   ]
  },
  {
   "cell_type": "markdown",
   "metadata": {},
   "source": [
    "Formatear el dataframe:\n",
    "* Cambiamos los *Desconocido* por NA en las columnas \"race_eth\", \"first_degree_hx\", \"age_menarche\", \"age_first_birth\", \"BIRADS_breast_density\", \"current_hrt\", \"menopaus\", \"bmi_group\", \"biophx\", \"breast_cancer_history\"\n",
    "* Convertimos a factores las columnas que vamos a necesitar"
   ]
  },
  {
   "cell_type": "code",
   "execution_count": 157,
   "metadata": {},
   "outputs": [
    {
     "name": "stdout",
     "output_type": "stream",
     "text": [
      "'data.frame':\t5000 obs. of  13 variables:\n",
      " $ year                 : int  2007 2008 2007 2008 2004 2001 2003 2004 2007 2009 ...\n",
      " $ age_group_5_years    : int  2 8 6 10 6 8 4 10 4 11 ...\n",
      " $ race_eth             : int  1 6 5 1 1 1 3 5 1 1 ...\n",
      " $ first_degree_hx      : int  0 0 0 0 0 1 0 1 0 1 ...\n",
      " $ age_menarche         : int  1 0 9 0 9 1 9 9 9 0 ...\n",
      " $ age_first_birth      : int  4 1 3 9 4 1 3 1 3 4 ...\n",
      " $ BIRADS_breast_density: Factor w/ 5 levels \"Almost entirely fat\",..: 1 5 4 3 2 1 5 4 3 2 ...\n",
      " $ current_hrt          : int  0 0 1 9 0 0 0 0 0 0 ...\n",
      " $ menopaus             : int  1 2 2 2 2 2 1 2 1 2 ...\n",
      " $ bmi_group            : int  2 4 3 2 1 9 3 4 1 2 ...\n",
      " $ biophx               : int  0 0 1 0 0 0 0 0 1 1 ...\n",
      " $ breast_cancer_history: int  0 0 0 0 0 0 0 0 1 1 ...\n",
      " $ count                : int  5 2 1 1 8 19 3 1 6 1 ...\n",
      "'data.frame':\t5000 obs. of  13 variables:\n",
      " $ year                 : int  2007 2008 2007 2008 2004 2001 2003 2004 2007 2009 ...\n",
      " $ age_group_5_years    : Factor w/ 13 levels \"23\",\"32\",\"37\",..: 2 8 6 10 6 8 4 10 4 11 ...\n",
      " $ race_eth             : int  1 6 5 1 1 1 3 5 1 1 ...\n",
      " $ first_degree_hx      : int  0 0 0 0 0 1 0 1 0 1 ...\n",
      " $ age_menarche         : int  1 0 9 0 9 1 9 9 9 0 ...\n",
      " $ age_first_birth      : int  4 1 3 9 4 1 3 1 3 4 ...\n",
      " $ BIRADS_breast_density: Factor w/ 5 levels \"Almost entirely fat\",..: 1 5 4 3 2 1 5 4 3 2 ...\n",
      " $ current_hrt          : int  0 0 1 9 0 0 0 0 0 0 ...\n",
      " $ menopaus             : int  1 2 2 2 2 2 1 2 1 2 ...\n",
      " $ bmi_group            : int  2 4 3 2 1 9 3 4 1 2 ...\n",
      " $ biophx               : int  0 0 1 0 0 0 0 0 1 1 ...\n",
      " $ breast_cancer_history: int  0 0 0 0 0 0 0 0 1 1 ...\n",
      " $ count                : int  5 2 1 1 8 19 3 1 6 1 ...\n"
     ]
    },
    {
     "data": {
      "text/html": [
       "<table>\n",
       "<thead><tr><th></th><th scope=col>year</th><th scope=col>age_group_5_years</th><th scope=col>race_eth</th><th scope=col>first_degree_hx</th><th scope=col>age_menarche</th><th scope=col>age_first_birth</th><th scope=col>BIRADS_breast_density</th><th scope=col>current_hrt</th><th scope=col>menopaus</th><th scope=col>bmi_group</th><th scope=col>biophx</th><th scope=col>breast_cancer_history</th><th scope=col>count</th></tr></thead>\n",
       "<tbody>\n",
       "\t<tr><th scope=row>825121</th><td>2007                              </td><td>32                                </td><td>1                                 </td><td>0                                 </td><td>1                                 </td><td>4                                 </td><td>Almost entirely fat               </td><td>0                                 </td><td>1                                 </td><td>2                                 </td><td>0                                 </td><td>0                                 </td><td> 5                                </td></tr>\n",
       "\t<tr><th scope=row>1002378</th><td>2008                              </td><td>62                                </td><td>6                                 </td><td>0                                 </td><td>0                                 </td><td>1                                 </td><td>Scattered fibroglandular densities</td><td>0                                 </td><td>2                                 </td><td>4                                 </td><td>0                                 </td><td>0                                 </td><td> 2                                </td></tr>\n",
       "\t<tr><th scope=row>870992</th><td>2007                              </td><td>52                                </td><td>5                                 </td><td>0                                 </td><td>9                                 </td><td>3                                 </td><td>Heterogeneously dense             </td><td>1                                 </td><td>2                                 </td><td>3                                 </td><td>1                                 </td><td>0                                 </td><td> 1                                </td></tr>\n",
       "\t<tr><th scope=row>1014224</th><td>2008                              </td><td>72                                </td><td>1                                 </td><td>0                                 </td><td>0                                 </td><td>9                                 </td><td>Extremely dense                   </td><td>9                                 </td><td>2                                 </td><td>2                                 </td><td>0                                 </td><td>0                                 </td><td> 1                                </td></tr>\n",
       "\t<tr><th scope=row>522470</th><td>2004                              </td><td>52                                </td><td>1                                 </td><td>0                                 </td><td>9                                 </td><td>4                                 </td><td>Desconocido                       </td><td>0                                 </td><td>2                                 </td><td>1                                 </td><td>0                                 </td><td>0                                 </td><td> 8                                </td></tr>\n",
       "\t<tr><th scope=row>190423</th><td>2001                              </td><td>62                                </td><td>1                                 </td><td>1                                 </td><td>1                                 </td><td>1                                 </td><td>Almost entirely fat               </td><td>0                                 </td><td>2                                 </td><td>9                                 </td><td>0                                 </td><td>0                                 </td><td>19                                </td></tr>\n",
       "</tbody>\n",
       "</table>\n"
      ],
      "text/latex": [
       "\\begin{tabular}{r|lllllllllllll}\n",
       "  & year & age\\_group\\_5\\_years & race\\_eth & first\\_degree\\_hx & age\\_menarche & age\\_first\\_birth & BIRADS\\_breast\\_density & current\\_hrt & menopaus & bmi\\_group & biophx & breast\\_cancer\\_history & count\\\\\n",
       "\\hline\n",
       "\t825121 & 2007                               & 32                                 & 1                                  & 0                                  & 1                                  & 4                                  & Almost entirely fat                & 0                                  & 1                                  & 2                                  & 0                                  & 0                                  &  5                                \\\\\n",
       "\t1002378 & 2008                               & 62                                 & 6                                  & 0                                  & 0                                  & 1                                  & Scattered fibroglandular densities & 0                                  & 2                                  & 4                                  & 0                                  & 0                                  &  2                                \\\\\n",
       "\t870992 & 2007                               & 52                                 & 5                                  & 0                                  & 9                                  & 3                                  & Heterogeneously dense              & 1                                  & 2                                  & 3                                  & 1                                  & 0                                  &  1                                \\\\\n",
       "\t1014224 & 2008                               & 72                                 & 1                                  & 0                                  & 0                                  & 9                                  & Extremely dense                    & 9                                  & 2                                  & 2                                  & 0                                  & 0                                  &  1                                \\\\\n",
       "\t522470 & 2004                               & 52                                 & 1                                  & 0                                  & 9                                  & 4                                  & Desconocido                        & 0                                  & 2                                  & 1                                  & 0                                  & 0                                  &  8                                \\\\\n",
       "\t190423 & 2001                               & 62                                 & 1                                  & 1                                  & 1                                  & 1                                  & Almost entirely fat                & 0                                  & 2                                  & 9                                  & 0                                  & 0                                  & 19                                \\\\\n",
       "\\end{tabular}\n"
      ],
      "text/markdown": [
       "\n",
       "| <!--/--> | year | age_group_5_years | race_eth | first_degree_hx | age_menarche | age_first_birth | BIRADS_breast_density | current_hrt | menopaus | bmi_group | biophx | breast_cancer_history | count | \n",
       "|---|---|---|---|---|---|\n",
       "| 825121 | 2007                               | 32                                 | 1                                  | 0                                  | 1                                  | 4                                  | Almost entirely fat                | 0                                  | 1                                  | 2                                  | 0                                  | 0                                  |  5                                 | \n",
       "| 1002378 | 2008                               | 62                                 | 6                                  | 0                                  | 0                                  | 1                                  | Scattered fibroglandular densities | 0                                  | 2                                  | 4                                  | 0                                  | 0                                  |  2                                 | \n",
       "| 870992 | 2007                               | 52                                 | 5                                  | 0                                  | 9                                  | 3                                  | Heterogeneously dense              | 1                                  | 2                                  | 3                                  | 1                                  | 0                                  |  1                                 | \n",
       "| 1014224 | 2008                               | 72                                 | 1                                  | 0                                  | 0                                  | 9                                  | Extremely dense                    | 9                                  | 2                                  | 2                                  | 0                                  | 0                                  |  1                                 | \n",
       "| 522470 | 2004                               | 52                                 | 1                                  | 0                                  | 9                                  | 4                                  | Desconocido                        | 0                                  | 2                                  | 1                                  | 0                                  | 0                                  |  8                                 | \n",
       "| 190423 | 2001                               | 62                                 | 1                                  | 1                                  | 1                                  | 1                                  | Almost entirely fat                | 0                                  | 2                                  | 9                                  | 0                                  | 0                                  | 19                                 | \n",
       "\n",
       "\n"
      ],
      "text/plain": [
       "        year age_group_5_years race_eth first_degree_hx age_menarche\n",
       "825121  2007 32                1        0               1           \n",
       "1002378 2008 62                6        0               0           \n",
       "870992  2007 52                5        0               9           \n",
       "1014224 2008 72                1        0               0           \n",
       "522470  2004 52                1        0               9           \n",
       "190423  2001 62                1        1               1           \n",
       "        age_first_birth BIRADS_breast_density              current_hrt menopaus\n",
       "825121  4               Almost entirely fat                0           1       \n",
       "1002378 1               Scattered fibroglandular densities 0           2       \n",
       "870992  3               Heterogeneously dense              1           2       \n",
       "1014224 9               Extremely dense                    9           2       \n",
       "522470  4               Desconocido                        0           2       \n",
       "190423  1               Almost entirely fat                0           2       \n",
       "        bmi_group biophx breast_cancer_history count\n",
       "825121  2         0      0                      5   \n",
       "1002378 4         0      0                      2   \n",
       "870992  3         1      0                      1   \n",
       "1014224 2         0      0                      1   \n",
       "522470  1         0      0                      8   \n",
       "190423  9         0      0                     19   "
      ]
     },
     "metadata": {},
     "output_type": "display_data"
    }
   ],
   "source": [
    "str(df2)\n",
    "# FALTA CAMBIAR DESCONOCIDO (9) POR NA\n",
    "#df2$age_group_5_years<-factor(df2$age_group_5_years)\n",
    "df2$age_group_5_years<-factor(df2$age_group_5_years,labels = c(\"23\",\"32\",\"37\",\"42\",\"47\",\"52\",\"57\",\"62\",\"67\",\"72\",\"77\",\"82\",\"87\"))\n",
    "\n",
    "str(df2)\n",
    "head(df2)"
   ]
  },
  {
   "cell_type": "code",
   "execution_count": 158,
   "metadata": {},
   "outputs": [
    {
     "data": {
      "text/html": [
       "<ol class=list-inline>\n",
       "\t<li>32</li>\n",
       "\t<li>62</li>\n",
       "\t<li>52</li>\n",
       "\t<li>72</li>\n",
       "\t<li>42</li>\n",
       "\t<li>77</li>\n",
       "\t<li>57</li>\n",
       "\t<li>47</li>\n",
       "\t<li>67</li>\n",
       "\t<li>37</li>\n",
       "\t<li>87</li>\n",
       "\t<li>82</li>\n",
       "\t<li>23</li>\n",
       "</ol>\n"
      ],
      "text/latex": [
       "\\begin{enumerate*}\n",
       "\\item 32\n",
       "\\item 62\n",
       "\\item 52\n",
       "\\item 72\n",
       "\\item 42\n",
       "\\item 77\n",
       "\\item 57\n",
       "\\item 47\n",
       "\\item 67\n",
       "\\item 37\n",
       "\\item 87\n",
       "\\item 82\n",
       "\\item 23\n",
       "\\end{enumerate*}\n"
      ],
      "text/markdown": [
       "1. 32\n",
       "2. 62\n",
       "3. 52\n",
       "4. 72\n",
       "5. 42\n",
       "6. 77\n",
       "7. 57\n",
       "8. 47\n",
       "9. 67\n",
       "10. 37\n",
       "11. 87\n",
       "12. 82\n",
       "13. 23\n",
       "\n",
       "\n"
      ],
      "text/plain": [
       " [1] 32 62 52 72 42 77 57 47 67 37 87 82 23\n",
       "Levels: 23 32 37 42 47 52 57 62 67 72 77 82 87"
      ]
     },
     "metadata": {},
     "output_type": "display_data"
    },
    {
     "name": "stdout",
     "output_type": "stream",
     "text": [
      " Factor w/ 13 levels \"23\",\"32\",\"37\",..: 2 8 6 10 6 8 4 10 4 11 ...\n"
     ]
    },
    {
     "data": {
      "text/html": [
       "<table>\n",
       "<thead><tr><th></th><th scope=col>year</th><th scope=col>age_group_5_years</th><th scope=col>race_eth</th><th scope=col>first_degree_hx</th><th scope=col>age_menarche</th><th scope=col>age_first_birth</th><th scope=col>BIRADS_breast_density</th><th scope=col>current_hrt</th><th scope=col>menopaus</th><th scope=col>bmi_group</th><th scope=col>biophx</th><th scope=col>breast_cancer_history</th><th scope=col>count</th><th scope=col>edad_estimada</th></tr></thead>\n",
       "<tbody>\n",
       "\t<tr><th scope=row>825121</th><td>2007                              </td><td>32                                </td><td>1                                 </td><td>0                                 </td><td>1                                 </td><td>4                                 </td><td>Almost entirely fat               </td><td>0                                 </td><td>1                                 </td><td>2                                 </td><td>0                                 </td><td>0                                 </td><td> 5                                </td><td>32                                </td></tr>\n",
       "\t<tr><th scope=row>1002378</th><td>2008                              </td><td>62                                </td><td>6                                 </td><td>0                                 </td><td>0                                 </td><td>1                                 </td><td>Scattered fibroglandular densities</td><td>0                                 </td><td>2                                 </td><td>4                                 </td><td>0                                 </td><td>0                                 </td><td> 2                                </td><td>62                                </td></tr>\n",
       "\t<tr><th scope=row>870992</th><td>2007                              </td><td>52                                </td><td>5                                 </td><td>0                                 </td><td>9                                 </td><td>3                                 </td><td>Heterogeneously dense             </td><td>1                                 </td><td>2                                 </td><td>3                                 </td><td>1                                 </td><td>0                                 </td><td> 1                                </td><td>52                                </td></tr>\n",
       "\t<tr><th scope=row>1014224</th><td>2008                              </td><td>72                                </td><td>1                                 </td><td>0                                 </td><td>0                                 </td><td>9                                 </td><td>Extremely dense                   </td><td>9                                 </td><td>2                                 </td><td>2                                 </td><td>0                                 </td><td>0                                 </td><td> 1                                </td><td>72                                </td></tr>\n",
       "\t<tr><th scope=row>522470</th><td>2004                              </td><td>52                                </td><td>1                                 </td><td>0                                 </td><td>9                                 </td><td>4                                 </td><td>Desconocido                       </td><td>0                                 </td><td>2                                 </td><td>1                                 </td><td>0                                 </td><td>0                                 </td><td> 8                                </td><td>52                                </td></tr>\n",
       "\t<tr><th scope=row>190423</th><td>2001                              </td><td>62                                </td><td>1                                 </td><td>1                                 </td><td>1                                 </td><td>1                                 </td><td>Almost entirely fat               </td><td>0                                 </td><td>2                                 </td><td>9                                 </td><td>0                                 </td><td>0                                 </td><td>19                                </td><td>62                                </td></tr>\n",
       "</tbody>\n",
       "</table>\n"
      ],
      "text/latex": [
       "\\begin{tabular}{r|llllllllllllll}\n",
       "  & year & age\\_group\\_5\\_years & race\\_eth & first\\_degree\\_hx & age\\_menarche & age\\_first\\_birth & BIRADS\\_breast\\_density & current\\_hrt & menopaus & bmi\\_group & biophx & breast\\_cancer\\_history & count & edad\\_estimada\\\\\n",
       "\\hline\n",
       "\t825121 & 2007                               & 32                                 & 1                                  & 0                                  & 1                                  & 4                                  & Almost entirely fat                & 0                                  & 1                                  & 2                                  & 0                                  & 0                                  &  5                                 & 32                                \\\\\n",
       "\t1002378 & 2008                               & 62                                 & 6                                  & 0                                  & 0                                  & 1                                  & Scattered fibroglandular densities & 0                                  & 2                                  & 4                                  & 0                                  & 0                                  &  2                                 & 62                                \\\\\n",
       "\t870992 & 2007                               & 52                                 & 5                                  & 0                                  & 9                                  & 3                                  & Heterogeneously dense              & 1                                  & 2                                  & 3                                  & 1                                  & 0                                  &  1                                 & 52                                \\\\\n",
       "\t1014224 & 2008                               & 72                                 & 1                                  & 0                                  & 0                                  & 9                                  & Extremely dense                    & 9                                  & 2                                  & 2                                  & 0                                  & 0                                  &  1                                 & 72                                \\\\\n",
       "\t522470 & 2004                               & 52                                 & 1                                  & 0                                  & 9                                  & 4                                  & Desconocido                        & 0                                  & 2                                  & 1                                  & 0                                  & 0                                  &  8                                 & 52                                \\\\\n",
       "\t190423 & 2001                               & 62                                 & 1                                  & 1                                  & 1                                  & 1                                  & Almost entirely fat                & 0                                  & 2                                  & 9                                  & 0                                  & 0                                  & 19                                 & 62                                \\\\\n",
       "\\end{tabular}\n"
      ],
      "text/markdown": [
       "\n",
       "| <!--/--> | year | age_group_5_years | race_eth | first_degree_hx | age_menarche | age_first_birth | BIRADS_breast_density | current_hrt | menopaus | bmi_group | biophx | breast_cancer_history | count | edad_estimada | \n",
       "|---|---|---|---|---|---|\n",
       "| 825121 | 2007                               | 32                                 | 1                                  | 0                                  | 1                                  | 4                                  | Almost entirely fat                | 0                                  | 1                                  | 2                                  | 0                                  | 0                                  |  5                                 | 32                                 | \n",
       "| 1002378 | 2008                               | 62                                 | 6                                  | 0                                  | 0                                  | 1                                  | Scattered fibroglandular densities | 0                                  | 2                                  | 4                                  | 0                                  | 0                                  |  2                                 | 62                                 | \n",
       "| 870992 | 2007                               | 52                                 | 5                                  | 0                                  | 9                                  | 3                                  | Heterogeneously dense              | 1                                  | 2                                  | 3                                  | 1                                  | 0                                  |  1                                 | 52                                 | \n",
       "| 1014224 | 2008                               | 72                                 | 1                                  | 0                                  | 0                                  | 9                                  | Extremely dense                    | 9                                  | 2                                  | 2                                  | 0                                  | 0                                  |  1                                 | 72                                 | \n",
       "| 522470 | 2004                               | 52                                 | 1                                  | 0                                  | 9                                  | 4                                  | Desconocido                        | 0                                  | 2                                  | 1                                  | 0                                  | 0                                  |  8                                 | 52                                 | \n",
       "| 190423 | 2001                               | 62                                 | 1                                  | 1                                  | 1                                  | 1                                  | Almost entirely fat                | 0                                  | 2                                  | 9                                  | 0                                  | 0                                  | 19                                 | 62                                 | \n",
       "\n",
       "\n"
      ],
      "text/plain": [
       "        year age_group_5_years race_eth first_degree_hx age_menarche\n",
       "825121  2007 32                1        0               1           \n",
       "1002378 2008 62                6        0               0           \n",
       "870992  2007 52                5        0               9           \n",
       "1014224 2008 72                1        0               0           \n",
       "522470  2004 52                1        0               9           \n",
       "190423  2001 62                1        1               1           \n",
       "        age_first_birth BIRADS_breast_density              current_hrt menopaus\n",
       "825121  4               Almost entirely fat                0           1       \n",
       "1002378 1               Scattered fibroglandular densities 0           2       \n",
       "870992  3               Heterogeneously dense              1           2       \n",
       "1014224 9               Extremely dense                    9           2       \n",
       "522470  4               Desconocido                        0           2       \n",
       "190423  1               Almost entirely fat                0           2       \n",
       "        bmi_group biophx breast_cancer_history count edad_estimada\n",
       "825121  2         0      0                      5    32           \n",
       "1002378 4         0      0                      2    62           \n",
       "870992  3         1      0                      1    52           \n",
       "1014224 2         0      0                      1    72           \n",
       "522470  1         0      0                      8    52           \n",
       "190423  9         0      0                     19    62           "
      ]
     },
     "metadata": {},
     "output_type": "display_data"
    }
   ],
   "source": [
    "#Pasar edades a números\n",
    "unique(df2$age_group_5_years)\n",
    "str(df2$age_group_5_years)\n",
    "ageVectors<-c(23,32,37,42,47,52,57,62,67,72,77,82,87)\n",
    "df2$edad_estimada<-ageVectors[as.numeric(df2$age_group_5_years)]\n",
    "#df2$age_group_5_years\n",
    "head(df2)\n",
    "#df2$edad_estimada"
   ]
  },
  {
   "cell_type": "markdown",
   "metadata": {},
   "source": [
    "#### Edad y Antecedentes familiares"
   ]
  },
  {
   "cell_type": "markdown",
   "metadata": {},
   "source": [
    "Creamos una nueva columna con la edad estimada para un posterior análisis"
   ]
  },
  {
   "cell_type": "markdown",
   "metadata": {},
   "source": [
    "Representa en un diagrama de cajas cómo varía la **edad de aparición del cancer** en función de si ha habido **antecedentes familiares** o no.\n",
    "Ayuda:\n",
    "- Hay que crear una nueva columna con la edad estimada de cada rango."
   ]
  },
  {
   "cell_type": "code",
   "execution_count": 69,
   "metadata": {},
   "outputs": [],
   "source": [
    "library(ggplot2)"
   ]
  },
  {
   "cell_type": "code",
   "execution_count": 75,
   "metadata": {},
   "outputs": [],
   "source": [
    "df2$first_degree_hx<-factor(df2$first_degree_hx)\n"
   ]
  },
  {
   "cell_type": "code",
   "execution_count": 77,
   "metadata": {},
   "outputs": [],
   "source": [
    "df2$edad_estimada <- as.integer(df2$edad_estimada)"
   ]
  },
  {
   "cell_type": "code",
   "execution_count": 139,
   "metadata": {},
   "outputs": [],
   "source": [
    "df4 <- df2[,c('edad_estimada','first_degree_hx')]"
   ]
  },
  {
   "cell_type": "code",
   "execution_count": 140,
   "metadata": {},
   "outputs": [
    {
     "name": "stdout",
     "output_type": "stream",
     "text": [
      "'data.frame':\t5000 obs. of  2 variables:\n",
      " $ edad_estimada  : int  32 62 52 72 52 62 42 72 42 77 ...\n",
      " $ first_degree_hx: Factor w/ 3 levels \"0\",\"1\",\"9\": 1 1 1 1 1 2 1 2 1 2 ...\n"
     ]
    }
   ],
   "source": [
    "str (df4)"
   ]
  },
  {
   "cell_type": "code",
   "execution_count": 159,
   "metadata": {},
   "outputs": [
    {
     "data": {},
     "metadata": {},
     "output_type": "display_data"
    },
    {
     "data": {
      "image/png": "[encoded data removed]",
      "text/plain": [
       "plot without title"
      ]
     },
     "metadata": {},
     "output_type": "display_data"
    }
   ],
   "source": [
    "\n",
    "ggplot (df4, aes(x=first_degree_hx, y=edad_estimada, color=first_degree_hx))+geom_boxplot()+geom_point()\n"
   ]
  },
  {
   "cell_type": "code",
   "execution_count": 121,
   "metadata": {},
   "outputs": [],
   "source": [
    "df_edad_saf <- subset(df4, first_degree_hx == 0)\n",
    "df_edad_caf <- subset(df4, first_degree_hx == 1)\n"
   ]
  },
  {
   "cell_type": "code",
   "execution_count": 122,
   "metadata": {},
   "outputs": [
    {
     "name": "stdout",
     "output_type": "stream",
     "text": [
      "'data.frame':\t3390 obs. of  2 variables:\n",
      " $ edad_estimada  : num  32 62 52 72 52 42 42 52 57 47 ...\n",
      " $ first_degree_hx: Factor w/ 3 levels \"0\",\"1\",\"9\": 1 1 1 1 1 1 1 1 1 1 ...\n",
      "'data.frame':\t1305 obs. of  2 variables:\n",
      " $ edad_estimada  : num  62 72 77 62 72 67 67 57 87 77 ...\n",
      " $ first_degree_hx: Factor w/ 3 levels \"0\",\"1\",\"9\": 2 2 2 2 2 2 2 2 2 2 ...\n"
     ]
    }
   ],
   "source": [
    "str(df_edad_saf)\n",
    "str(df_edad_caf)\n"
   ]
  },
  {
   "cell_type": "code",
   "execution_count": 123,
   "metadata": {},
   "outputs": [
    {
     "data": {
      "text/html": [
       "57.8085545722714"
      ],
      "text/latex": [
       "57.8085545722714"
      ],
      "text/markdown": [
       "57.8085545722714"
      ],
      "text/plain": [
       "[1] 57.80855"
      ]
     },
     "metadata": {},
     "output_type": "display_data"
    },
    {
     "data": {
      "image/png": "[encoded data removed]",
      "text/plain": [
       "Plot with title “Histogram of df_edad_saf$edad_estimada”"
      ]
     },
     "metadata": {},
     "output_type": "display_data"
    }
   ],
   "source": [
    "hist(df_edad_saf$edad_estimada)\n",
    "mean(df_edad_saf$edad_estimada)"
   ]
  },
  {
   "cell_type": "code",
   "execution_count": 124,
   "metadata": {},
   "outputs": [
    {
     "data": {
      "text/html": [
       "59.0413793103448"
      ],
      "text/latex": [
       "59.0413793103448"
      ],
      "text/markdown": [
       "59.0413793103448"
      ],
      "text/plain": [
       "[1] 59.04138"
      ]
     },
     "metadata": {},
     "output_type": "display_data"
    },
    {
     "name": "stdout",
     "output_type": "stream",
     "text": [
      " num [1:1305] 62 72 77 62 72 67 67 57 87 77 ...\n"
     ]
    },
    {
     "data": {
      "image/png": "[encoded data removed]",
      "text/plain": [
       "Plot with title “Histogram of df_edad_caf$edad_estimada”"
      ]
     },
     "metadata": {},
     "output_type": "display_data"
    }
   ],
   "source": [
    "hist(df_edad_caf$edad_estimada)\n",
    "mean(df_edad_caf$edad_estimada)\n",
    "str(df_edad_caf$edad_estimada)"
   ]
  },
  {
   "cell_type": "code",
   "execution_count": 125,
   "metadata": {},
   "outputs": [
    {
     "data": {
      "image/png": "[encoded data removed]",
      "text/plain": [
       "Plot with title “Normal Q-Q Plot”"
      ]
     },
     "metadata": {},
     "output_type": "display_data"
    }
   ],
   "source": [
    "qqnorm(df_edad_caf$edad_estimada)"
   ]
  },
  {
   "cell_type": "markdown",
   "metadata": {},
   "source": [
    "¿Existe una diferencia estadística significativa entre la edad de aparición del cancer y si hay antecedentes familiares? ¿Que test usarías para comprobarlo?"
   ]
  },
  {
   "cell_type": "code",
   "execution_count": 126,
   "metadata": {},
   "outputs": [
    {
     "data": {
      "text/plain": [
       "\n",
       "\tWelch Two Sample t-test\n",
       "\n",
       "data:  df_edad_caf$edad_estimada and df_edad_saf$edad_estimada\n",
       "t = 2.7788, df = 2309.9, p-value = 0.0055\n",
       "alternative hypothesis: true difference in means is not equal to 0\n",
       "95 percent confidence interval:\n",
       " 0.3628207 2.1028287\n",
       "sample estimates:\n",
       "mean of x mean of y \n",
       " 59.04138  57.80855 \n"
      ]
     },
     "metadata": {},
     "output_type": "display_data"
    }
   ],
   "source": [
    "t.test(df_edad_caf$edad_estimada,df_edad_saf$edad_estimada)"
   ]
  },
  {
   "cell_type": "markdown",
   "metadata": {},
   "source": [
    "Dibuja la curva de densidad de probabilidad de cómo varía la edad de aparición del cancer en función de si ha habido antecedentes familiares o no."
   ]
  },
  {
   "cell_type": "code",
   "execution_count": 141,
   "metadata": {},
   "outputs": [
    {
     "name": "stderr",
     "output_type": "stream",
     "text": [
      "ERROR while rich displaying an object: Error in eval(expr, envir, enclos): object 'y' not found\n",
      "\n",
      "Traceback:\n",
      "1. FUN(X[[i]], ...)\n",
      "2. tryCatch(withCallingHandlers({\n",
      " .     rpr <- mime2repr[[mime]](obj)\n",
      " .     if (is.null(rpr)) \n",
      " .         return(NULL)\n",
      " .     prepare_content(is.raw(rpr), rpr)\n",
      " . }, error = error_handler), error = outer_handler)\n",
      "3. tryCatchList(expr, classes, parentenv, handlers)\n",
      "4. tryCatchOne(expr, names, parentenv, handlers[[1L]])\n",
      "5. doTryCatch(return(expr), name, parentenv, handler)\n",
      "6. withCallingHandlers({\n",
      " .     rpr <- mime2repr[[mime]](obj)\n",
      " .     if (is.null(rpr)) \n",
      " .         return(NULL)\n",
      " .     prepare_content(is.raw(rpr), rpr)\n",
      " . }, error = error_handler)\n",
      "7. mime2repr[[mime]](obj)\n",
      "8. repr_text.default(obj)\n",
      "9. paste(capture.output(print(obj)), collapse = \"\\n\")\n",
      "10. capture.output(print(obj))\n",
      "11. evalVis(expr)\n",
      "12. withVisible(eval(expr, pf))\n",
      "13. eval(expr, pf)\n",
      "14. eval(expr, envir, enclos)\n",
      "15. print(obj)\n",
      "16. print.ggplot(obj)\n",
      "17. ggplot_build(x)\n",
      "18. by_layer(function(l, d) l$compute_geom_1(d))\n",
      "19. f(l = layers[[i]], d = data[[i]])\n",
      "20. l$compute_geom_1(d)\n",
      "21. f(..., self = self)\n",
      "22. self$geom$setup_data(data, c(self$geom_params, self$aes_params))\n",
      "23. f(...)\n",
      "24. transform(data, ymin = 0, ymax = y)\n",
      "25. transform.data.frame(data, ymin = 0, ymax = y)\n",
      "26. eval(substitute(list(...)), `_data`, parent.frame())\n",
      "27. eval(expr, envir, enclos)\n"
     ]
    },
    {
     "data": {},
     "metadata": {},
     "output_type": "display_data"
    },
    {
     "ename": "ERROR",
     "evalue": "Error in file(con, \"rb\"): cannot open the connection\n",
     "output_type": "error",
     "traceback": [
      "Error in file(con, \"rb\"): cannot open the connection\nTraceback:\n"
     ]
    },
    {
     "data": {
      "text/plain": [
       "plot without title"
      ]
     },
     "metadata": {},
     "output_type": "display_data"
    }
   ],
   "source": [
    "ggplot (df4, aes(x=first_degree_hx,y=edad_estimada, color=first_degree_hx))+geom_boxplot()+geom_density()"
   ]
  },
  {
   "cell_type": "markdown",
   "metadata": {},
   "source": [
    "#### Edad y BIRADS"
   ]
  },
  {
   "cell_type": "markdown",
   "metadata": {},
   "source": [
    "Representa en un diagrama de cajas cómo varía la edad de aparición del cancer en función de la densidad del cancder (BIRADS)."
   ]
  },
  {
   "cell_type": "code",
   "execution_count": 160,
   "metadata": {},
   "outputs": [
    {
     "name": "stdout",
     "output_type": "stream",
     "text": [
      "'data.frame':\t5000 obs. of  14 variables:\n",
      " $ year                 : int  2007 2008 2007 2008 2004 2001 2003 2004 2007 2009 ...\n",
      " $ age_group_5_years    : Factor w/ 13 levels \"23\",\"32\",\"37\",..: 2 8 6 10 6 8 4 10 4 11 ...\n",
      " $ race_eth             : int  1 6 5 1 1 1 3 5 1 1 ...\n",
      " $ first_degree_hx      : int  0 0 0 0 0 1 0 1 0 1 ...\n",
      " $ age_menarche         : int  1 0 9 0 9 1 9 9 9 0 ...\n",
      " $ age_first_birth      : int  4 1 3 9 4 1 3 1 3 4 ...\n",
      " $ BIRADS_breast_density: Factor w/ 5 levels \"Almost entirely fat\",..: 1 5 4 3 2 1 5 4 3 2 ...\n",
      " $ current_hrt          : int  0 0 1 9 0 0 0 0 0 0 ...\n",
      " $ menopaus             : int  1 2 2 2 2 2 1 2 1 2 ...\n",
      " $ bmi_group            : int  2 4 3 2 1 9 3 4 1 2 ...\n",
      " $ biophx               : int  0 0 1 0 0 0 0 0 1 1 ...\n",
      " $ breast_cancer_history: int  0 0 0 0 0 0 0 0 1 1 ...\n",
      " $ count                : int  5 2 1 1 8 19 3 1 6 1 ...\n",
      " $ edad_estimada        : num  32 62 52 72 52 62 42 72 42 77 ...\n"
     ]
    }
   ],
   "source": [
    "str(df2)"
   ]
  },
  {
   "cell_type": "code",
   "execution_count": 148,
   "metadata": {},
   "outputs": [
    {
     "name": "stdout",
     "output_type": "stream",
     "text": [
      " Factor w/ 5 levels \"1\",\"2\",\"3\",\"4\",..: 3 2 3 2 4 2 5 2 5 1 ...\n"
     ]
    }
   ],
   "source": [
    "str(df2)"
   ]
  },
  {
   "cell_type": "code",
   "execution_count": 161,
   "metadata": {},
   "outputs": [
    {
     "data": {},
     "metadata": {},
     "output_type": "display_data"
    },
    {
     "data": {
      "image/png": "[encoded data removed]",
      "text/plain": [
       "plot without title"
      ]
     },
     "metadata": {},
     "output_type": "display_data"
    }
   ],
   "source": [
    "ggplot (df2, aes(x=BIRADS_breast_density,y=edad_estimada, color=BIRADS_breast_density))+geom_boxplot()+geom_point()"
   ]
  },
  {
   "cell_type": "markdown",
   "metadata": {},
   "source": [
    "¿Existe una evidencia estadística significativa para decir que la edad en la que se detecta el cancer depende de la densidad del cancer (BIRADS)?\n",
    "\n",
    "¿Que test habría que aplicar?"
   ]
  },
  {
   "cell_type": "code",
   "execution_count": 162,
   "metadata": {},
   "outputs": [
    {
     "name": "stdout",
     "output_type": "stream",
     "text": [
      "'data.frame':\t5000 obs. of  14 variables:\n",
      " $ year                 : int  2007 2008 2007 2008 2004 2001 2003 2004 2007 2009 ...\n",
      " $ age_group_5_years    : Factor w/ 13 levels \"23\",\"32\",\"37\",..: 2 8 6 10 6 8 4 10 4 11 ...\n",
      " $ race_eth             : int  1 6 5 1 1 1 3 5 1 1 ...\n",
      " $ first_degree_hx      : int  0 0 0 0 0 1 0 1 0 1 ...\n",
      " $ age_menarche         : int  1 0 9 0 9 1 9 9 9 0 ...\n",
      " $ age_first_birth      : int  4 1 3 9 4 1 3 1 3 4 ...\n",
      " $ BIRADS_breast_density: Factor w/ 5 levels \"Almost entirely fat\",..: 1 5 4 3 2 1 5 4 3 2 ...\n",
      " $ current_hrt          : int  0 0 1 9 0 0 0 0 0 0 ...\n",
      " $ menopaus             : int  1 2 2 2 2 2 1 2 1 2 ...\n",
      " $ bmi_group            : int  2 4 3 2 1 9 3 4 1 2 ...\n",
      " $ biophx               : int  0 0 1 0 0 0 0 0 1 1 ...\n",
      " $ breast_cancer_history: int  0 0 0 0 0 0 0 0 1 1 ...\n",
      " $ count                : int  5 2 1 1 8 19 3 1 6 1 ...\n",
      " $ edad_estimada        : num  32 62 52 72 52 62 42 72 42 77 ...\n"
     ]
    }
   ],
   "source": [
    "str(df2)\n",
    "\n",
    "\n"
   ]
  },
  {
   "cell_type": "code",
   "execution_count": 163,
   "metadata": {},
   "outputs": [
    {
     "ename": "ERROR",
     "evalue": "Error: is.numeric(x) is not TRUE\n",
     "output_type": "error",
     "traceback": [
      "Error: is.numeric(x) is not TRUE\nTraceback:\n",
      "1. print(paste(\"Tipo:\", v, \"pvalue:\", shapiro.test(df2$BIRADS_breast_density[v])$p.value))   # at line 5-6 of file <text>",
      "2. paste(\"Tipo:\", v, \"pvalue:\", shapiro.test(df2$BIRADS_breast_density[v])$p.value)",
      "3. shapiro.test(df2$BIRADS_breast_density[v])",
      "4. stopifnot(is.numeric(x))",
      "5. stop(sprintf(ngettext(length(r), \"%s is not TRUE\", \"%s are not all TRUE\"), \n .     ch), call. = FALSE, domain = NA)"
     ]
    }
   ],
   "source": [
    "#ANOVA sólo se puede aplicar en gaussianas\n",
    "#aplicamos el test de Shapiro\n",
    "\n",
    "for (v in levels(df2$BIRADS_breast_density)){\n",
    "    print(paste(\"Tipo:\", v, \"pvalue:\",\n",
    "               shapiro.test(df2$BIRADS_breast_density[v])$p.value))\n",
    "}\n",
    "\n",
    "bartlett.test(data=df2,edad_estimada ~ df2$BIRADS_breast_density)"
   ]
  },
  {
   "cell_type": "code",
   "execution_count": null,
   "metadata": {},
   "outputs": [],
   "source": [
    "#Test de Tukey\n",
    "Es utilizado para encontrar las medias que son significativamente diferentes en cada uno de los grupos.\n",
    "Compara las medias de cada grupo.\n"
   ]
  },
  {
   "cell_type": "code",
   "execution_count": null,
   "metadata": {},
   "outputs": [],
   "source": []
  },
  {
   "cell_type": "markdown",
   "metadata": {},
   "source": [
    "#### Tablas de contingencia: BIRADS"
   ]
  },
  {
   "cell_type": "markdown",
   "metadata": {},
   "source": [
    "¿Todos los  tipos de cancer (BIRADS) son igual de probables? ¿Con que test lo comprobarías?"
   ]
  },
  {
   "cell_type": "code",
   "execution_count": 30,
   "metadata": {},
   "outputs": [
    {
     "data": {
      "text/plain": [
       "\n",
       "               Almost entirely fat                        Desconocido \n",
       "                              1000                               1000 \n",
       "                   Extremely dense              Heterogeneously dense \n",
       "                              1000                               1000 \n",
       "Scattered fibroglandular densities \n",
       "                              1000 "
      ]
     },
     "metadata": {},
     "output_type": "display_data"
    }
   ],
   "source": [
    "# chi cuadrado\n",
    "tipo1 <- table(df2$BIRADS_breast_density)\n",
    "tipo1"
   ]
  },
  {
   "cell_type": "markdown",
   "metadata": {},
   "source": [
    "¿Cual es el tipo de cancer (BIRADS) más común? ¿Con qué proporción?"
   ]
  },
  {
   "cell_type": "code",
   "execution_count": null,
   "metadata": {},
   "outputs": [],
   "source": []
  },
  {
   "cell_type": "markdown",
   "metadata": {},
   "source": [
    "¿Depende el tipo de cancer (BIRADS) de si ha habido o no antecedentes familiares?"
   ]
  },
  {
   "cell_type": "code",
   "execution_count": null,
   "metadata": {},
   "outputs": [],
   "source": []
  },
  {
   "cell_type": "markdown",
   "metadata": {},
   "source": [
    "¿Depende el tipo de cancer BIRADS del grupo étnico?"
   ]
  },
  {
   "cell_type": "code",
   "execution_count": null,
   "metadata": {},
   "outputs": [],
   "source": []
  },
  {
   "cell_type": "markdown",
   "metadata": {},
   "source": [
    "¿Cual es la probabilidad (con su margen de error del 95%) de que un *Native American* tenga un cancer de tipo *Almost entirely fat*?\n",
    "\n",
    "*Aviso*: Cuidado con los NA"
   ]
  },
  {
   "cell_type": "code",
   "execution_count": null,
   "metadata": {},
   "outputs": [],
   "source": []
  }
 ],
 "metadata": {
  "kernelspec": {
   "display_name": "R",
   "language": "R",
   "name": "ir"
  },
  "language_info": {
   "codemirror_mode": "r",
   "file_extension": ".r",
   "mimetype": "text/x-r-source",
   "name": "R",
   "pygments_lexer": "r",
   "version": "3.2.3"
  }
 },
 "nbformat": 4,
 "nbformat_minor": 1
}
